{
 "cells": [
  {
   "cell_type": "markdown",
   "metadata": {},
   "source": [
    "#### Get List of current movies in library and parse out Titles and Year"
   ]
  },
  {
   "cell_type": "code",
   "execution_count": 3,
   "metadata": {
    "collapsed": false
   },
   "outputs": [],
   "source": [
    "import os\n",
    "import requests, json, csv\n",
    "\n",
    "# Set movie library path and get list of movies by folder name - TITLE(YEAR)\n",
    "\n",
    "movie_path = \"//HTPC/Users/HTPC1/Videos/Movies\"\n",
    "movieList = os.listdir(movie_path)\n",
    "\n",
    "# Extract Title, Year and create list of tuples\n",
    "\n",
    "movieTitle = [line[:-7] for line in movieList]  \n",
    "movieYear = [line[-5:-1] for line in movieList]\n",
    "movieList = list(zip(movieTitle, movieYear))      "
   ]
  },
  {
   "cell_type": "markdown",
   "metadata": {},
   "source": [
    "#### Create csv file and query OMDB API for data"
   ]
  },
  {
   "cell_type": "code",
   "execution_count": 4,
   "metadata": {
    "collapsed": false,
    "scrolled": true
   },
   "outputs": [],
   "source": [
    "MovieData = open('MovieData.csv', 'w', newline='')\n",
    "f = csv.writer(MovieData)\n",
    "\n",
    "movies = {}\n",
    "\n",
    "# Write headers to CSV file\n",
    "\n",
    "header = (['imdbRating', 'Year', 'Plot', 'Awards', 'Released', 'Title', 'Actors', 'Country', 'Director', 'Runtime', \\\n",
    "           'Response', 'Writer', 'imdbVotes', 'Language', 'Poster', 'imdbID', 'Genre', 'Type', 'Metascore', 'Rated'])\n",
    "f.writerow(header)\n",
    "\n",
    "# Loop through movieList, query data from OMDB API, write values to CSV from JSON response\n",
    "\n",
    "for line in movieList:\n",
    "    response = requests.get(\"http://omdbapi.com/?t=\"+ line[0] +\"&y=\"+ line[1])\n",
    "    movies[line[0]] = response.json() \n",
    "    f.writerow(movies[line[0]].values())\n",
    "\n",
    "MovieData.close()"
   ]
  },
  {
   "cell_type": "markdown",
   "metadata": {},
   "source": [
    "#### Used http://www.convertcsv.com/csv-to-sql.htm to convert CSV to SQL"
   ]
  },
  {
   "cell_type": "code",
   "execution_count": 2,
   "metadata": {
    "collapsed": true
   },
   "outputs": [],
   "source": [
    "# To do - Convert CSV to SQL statements in Python"
   ]
  }
 ],
 "metadata": {
  "anaconda-cloud": {},
  "kernelspec": {
   "display_name": "Python [Root]",
   "language": "python",
   "name": "Python [Root]"
  },
  "language_info": {
   "codemirror_mode": {
    "name": "ipython",
    "version": 3
   },
   "file_extension": ".py",
   "mimetype": "text/x-python",
   "name": "python",
   "nbconvert_exporter": "python",
   "pygments_lexer": "ipython3",
   "version": "3.5.2"
  }
 },
 "nbformat": 4,
 "nbformat_minor": 0
}
